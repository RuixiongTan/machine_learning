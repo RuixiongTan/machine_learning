{
 "cells": [
  {
   "cell_type": "markdown",
   "metadata": {},
   "source": [
    "# The basics of mathematical logic"
   ]
  },
  {
   "cell_type": "markdown",
   "metadata": {},
   "source": [
    "## Mathematical Statements"
   ]
  },
  {
   "cell_type": "markdown",
   "metadata": {
    "ExecuteTime": {
     "end_time": "2020-02-05T03:42:08.637155Z",
     "start_time": "2020-02-05T03:42:08.625191Z"
    }
   },
   "source": [
    "### What is the negation of the statement \"either X is true, or Y is true, but not both.\"?\n",
    "X and Y is true or X or Y is false.\n",
    "### What is the negation of the statement \"X is true if and only if Y is true.\"?\n",
    "(X is true and Y is false) or (X is false and Y is true)\n",
    "### Suppose that you have shown that whenever X is true, then Y is true, and whenever X is false, then Y is false. Have you now demonstrated that X and Y are logically equivalent? Explain.\n",
    "We have demonstrated that X and Y are logically equivalent.\n",
    "The negation of statement \"whenever X is false, then Y is false\" is \"whenever Y is true, then X is true.\" Those are the condition demostrate the two are equivalent.\n",
    "### Suppose that you have shown that whenever X is true, then Y is true, and whenever Y is false, then X is false. Have you now demonstrated that X is true if and only if Y is true? Explain.\n",
    "The later statement is equivalent to the former, so we can't demonstrate \"X is true iff Y is true.\"\n",
    "### Suppose you know that X is true if and only if Y is true, and you know that Y is true if and only if Z is true. Is this enough to show that X, Y,Z are all logically equivalent? Explain.\n",
    "we know that $ X \\Leftrightarrow Y $, and $ Y \\Leftrightarrow Z $.\n",
    "Then whenever if X is true, then Y is true, and the Z if true;\n",
    "similarly, whenever if Z is true, the Y is true, and then X is true;\n",
    "in short, whenever if X is true, then Z is true, and whenever Z is true, X is true, meaning $ X \\Leftrightarrow Z $.\n",
    "### Suppose you know that whenever X is true, then Y is true; that whenever Y is true, then Z is true; and whenever Z is true, then X is true. Is this enough to show that X, Y,Z are all logically equivalent? Explain.\n",
    "That mean whenever X is true, then Z is true, and whenever Z is true, then X is true. So $ X \\Leftrightarrow Z $, meaning X is equivalent to Z.\n",
    "That means whenever X is true, then Y is true; whenever Y is true, then X is true. So, $X \\Leftrightarrow Y \\Leftrightarrow Z $."
   ]
  },
  {
   "cell_type": "code",
   "execution_count": null,
   "metadata": {},
   "outputs": [],
   "source": []
  }
 ],
 "metadata": {
  "kernelspec": {
   "display_name": "Python 3",
   "language": "python",
   "name": "python3"
  },
  "language_info": {
   "codemirror_mode": {
    "name": "ipython",
    "version": 3
   },
   "file_extension": ".py",
   "mimetype": "text/x-python",
   "name": "python",
   "nbconvert_exporter": "python",
   "pygments_lexer": "ipython3",
   "version": "3.7.6"
  },
  "nbTranslate": {
   "displayLangs": [
    "*"
   ],
   "hotkey": "alt-t",
   "langInMainMenu": true,
   "sourceLang": "en",
   "targetLang": "fr",
   "useGoogleTranslate": true
  },
  "toc": {
   "base_numbering": 1,
   "nav_menu": {},
   "number_sections": true,
   "sideBar": true,
   "skip_h1_title": false,
   "title_cell": "Table of Contents",
   "title_sidebar": "Contents",
   "toc_cell": false,
   "toc_position": {},
   "toc_section_display": true,
   "toc_window_display": false
  },
  "varInspector": {
   "cols": {
    "lenName": 16,
    "lenType": 16,
    "lenVar": 40
   },
   "kernels_config": {
    "python": {
     "delete_cmd_postfix": "",
     "delete_cmd_prefix": "del ",
     "library": "var_list.py",
     "varRefreshCmd": "print(var_dic_list())"
    },
    "r": {
     "delete_cmd_postfix": ") ",
     "delete_cmd_prefix": "rm(",
     "library": "var_list.r",
     "varRefreshCmd": "cat(var_dic_list()) "
    }
   },
   "types_to_exclude": [
    "module",
    "function",
    "builtin_function_or_method",
    "instance",
    "_Feature"
   ],
   "window_display": false
  }
 },
 "nbformat": 4,
 "nbformat_minor": 4
}
