{
 "cells": [
  {
   "cell_type": "markdown",
   "metadata": {},
   "source": [
    "# A. Appendix: The basics of mathematical logic"
   ]
  },
  {
   "cell_type": "markdown",
   "metadata": {
    "ExecuteTime": {
     "end_time": "2020-02-05T03:42:08.637155Z",
     "start_time": "2020-02-05T03:42:08.625191Z"
    }
   },
   "source": [
    "## A.1 Mathematical Statements\n",
    "### Exercise A.1.1. What is the negation of the statement \"either X is true, or Y is true, but not both.\"?\n",
    "X and Y is true or X or Y is false.\n",
    "### Exercise A.1.2. What is the negation of the statement \"X is true if and only if Y is true.\"?\n",
    "(X is true and Y is false) or (X is false and Y is true)\n",
    "### Exercise A.1.3. Suppose that you have shown that whenever X is true, then Y is true, and whenever X is false, then Y is false. Have you now demonstrated that X and Y are logically equivalent? Explain.\n",
    "We have demonstrated that X and Y are logically equivalent.\n",
    "<br>The negation of statement \"whenever X is false, then Y is false\" is \"whenever Y is true, then X is true.\" Those are the condition demostrate the two are equivalent.\n",
    "\n",
    "<br><font color=red>If statement \"whenever Y is true, then X is true\" is false, then when Y is true, X is false, then Y is false. It is controdictory with \"Y is true\".\n",
    "<br>So whenever Y is true, then X is true.\n",
    "<br>Then, X and Y are logically equivalent.</font>\n",
    "### Exercise A.1.4. Suppose that you have shown that whenever X is true, then Y is true, and whenever Y is false, then X is false. Have you now demonstrated that X is true if and only if Y is true? Explain.\n",
    "The later statement is equivalent to the former, so we can't demonstrate \"X is true iff Y is true.\"\n",
    "### Exercise A.1.5. Suppose you know that X is true if and only if Y is true, and you know that Y is true if and only if Z is true. Is this enough to show that X, Y,Z are all logically equivalent? Explain.\n",
    "we know that $ X \\Leftrightarrow Y $, and $ Y \\Leftrightarrow Z $.\n",
    "<br>Then whenever if X is true, then Y is true, and the Z if true;\n",
    "similarly, whenever if Z is true, the Y is true, and then X is true.\n",
    "<br>In short, whenever if X is true, then Z is true, and whenever Z is true, X is true, meaning $ X \\Leftrightarrow Z $.\n",
    "### Exercise A.1.6. Suppose you know that whenever X is true, then Y is true; that whenever Y is true, then Z is true; and whenever Z is true, then X is true. Is this enough to show that X, Y,Z are all logically equivalent? Explain.\n",
    "That mean whenever X is true, then Z is true, and whenever Z is true, then X is true. So $ X \\Leftrightarrow Z $, meaning X is equivalent to Z.\n",
    "<br>That means whenever X is true, then Y is true; whenever Y is true, then X is true. So, $X \\Leftrightarrow Y \\Leftrightarrow Z $."
   ]
  },
  {
   "cell_type": "markdown",
   "metadata": {},
   "source": [
    "## A.2 Nested quantifiers\n",
    "### A.5.1. What does each of following statements mean, and which of them are true? Can you find gaming metaphors for each of these statements?\n",
    "#### (a) For every positive number x, and every positive number y, we have $y^2 = x $.\n",
    "False. For instance, $x = 1, y = 2 $\n",
    "#### (b) There exists a positive number x such that for every positive number y, we have $y^2 = x $.\n",
    "False.\n",
    "#### (c) There exists a positive number x, and there exists a positive number y, such that $y^2 = x $.\n",
    "True.\n",
    "#### (d) For every positive number y, there exists a positive number x such that $y^2 = x $.\n",
    "True.\n",
    "#### (e) There exists a positive number y such that for every positive number x, we have $y^2 = x $.\n",
    "False"
   ]
  },
  {
   "cell_type": "markdown",
   "metadata": {},
   "source": [
    "## A.7 Equality\n",
    "### Exercise A.7.1. Suppose you have four real numbers $a, b, c, d$ and you know that $a = b, c = d$. Use the above four axioms to deduce that $a + d = b + c$."
   ]
  },
  {
   "cell_type": "markdown",
   "metadata": {},
   "source": [
    "we can define $f(x) = x + c$.\n",
    "<br>since $a = b$, on the basis of Substition axiom, $f(a) = f(b) $.\n",
    "<br>hence, $a + c = b + c$.\n",
    "<br>similarly, we can define $g(x) = a + x$, and $a + d = a + c$.\n",
    "<br>on the basis of Symmetry axiom, $b + c = a + c$, $a+c=a+d$.\n",
    "<br>since $a$,on the basis of Transitive axiom, $b+c=a+d$.\n",
    "<br>on the basis of Symmetry axiom, $a_d=b+c$.\n",
    "<br>$Q.E.D.$"
   ]
  }
 ],
 "metadata": {
  "kernelspec": {
   "display_name": "Python 3",
   "language": "python",
   "name": "python3"
  },
  "language_info": {
   "codemirror_mode": {
    "name": "ipython",
    "version": 3
   },
   "file_extension": ".py",
   "mimetype": "text/x-python",
   "name": "python",
   "nbconvert_exporter": "python",
   "pygments_lexer": "ipython3",
   "version": "3.7.6"
  },
  "nbTranslate": {
   "displayLangs": [
    "*"
   ],
   "hotkey": "alt-t",
   "langInMainMenu": true,
   "sourceLang": "en",
   "targetLang": "fr",
   "useGoogleTranslate": true
  },
  "toc": {
   "base_numbering": 1,
   "nav_menu": {},
   "number_sections": true,
   "sideBar": true,
   "skip_h1_title": false,
   "title_cell": "Table of Contents",
   "title_sidebar": "Contents",
   "toc_cell": false,
   "toc_position": {},
   "toc_section_display": true,
   "toc_window_display": false
  },
  "varInspector": {
   "cols": {
    "lenName": 16,
    "lenType": 16,
    "lenVar": 40
   },
   "kernels_config": {
    "python": {
     "delete_cmd_postfix": "",
     "delete_cmd_prefix": "del ",
     "library": "var_list.py",
     "varRefreshCmd": "print(var_dic_list())"
    },
    "r": {
     "delete_cmd_postfix": ") ",
     "delete_cmd_prefix": "rm(",
     "library": "var_list.r",
     "varRefreshCmd": "cat(var_dic_list()) "
    }
   },
   "types_to_exclude": [
    "module",
    "function",
    "builtin_function_or_method",
    "instance",
    "_Feature"
   ],
   "window_display": false
  }
 },
 "nbformat": 4,
 "nbformat_minor": 4
}
