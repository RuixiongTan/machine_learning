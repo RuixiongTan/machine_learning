{
 "cells": [
  {
   "cell_type": "markdown",
   "metadata": {
    "pycharm": {
     "name": "#%% md\n"
    }
   },
   "source": [
    "# 三. list"
   ]
  },
  {
   "cell_type": "markdown",
   "metadata": {
    "pycharm": {
     "name": "#%% md\n"
    }
   },
   "source": [
    "## 3.1 what is list?"
   ]
  },
  {
   "cell_type": "code",
   "execution_count": 16,
   "metadata": {
    "ExecuteTime": {
     "end_time": "2020-02-05T15:41:14.701259Z",
     "start_time": "2020-02-05T15:41:14.694274Z"
    },
    "pycharm": {
     "is_executing": false,
     "name": "#%%\n"
    }
   },
   "outputs": [
    {
     "name": "stdout",
     "output_type": "stream",
     "text": [
      "['trek', 'fenghuang', 'jieante', 'haiou']\n"
     ]
    }
   ],
   "source": [
    "bicycles=['trek','fenghuang','jieante','haiou']\n",
    "print(bicycles)"
   ]
  },
  {
   "cell_type": "code",
   "execution_count": 17,
   "metadata": {
    "ExecuteTime": {
     "end_time": "2020-02-05T15:41:14.814501Z",
     "start_time": "2020-02-05T15:41:14.807518Z"
    },
    "pycharm": {
     "is_executing": false,
     "name": "#%%\n"
    }
   },
   "outputs": [
    {
     "data": {
      "text/plain": [
       "'jieante'"
      ]
     },
     "execution_count": 17,
     "metadata": {},
     "output_type": "execute_result"
    }
   ],
   "source": [
    "bicycles[2]"
   ]
  },
  {
   "cell_type": "code",
   "execution_count": 18,
   "metadata": {
    "ExecuteTime": {
     "end_time": "2020-02-05T15:41:14.940166Z",
     "start_time": "2020-02-05T15:41:14.933217Z"
    },
    "pycharm": {
     "is_executing": false,
     "name": "#%%\n"
    }
   },
   "outputs": [
    {
     "name": "stdout",
     "output_type": "stream",
     "text": [
      "Jieante\n",
      "JIEANTE\n",
      "jieante\n"
     ]
    }
   ],
   "source": [
    "print(bicycles[2].title())\n",
    "print(bicycles[2].upper())\n",
    "print(bicycles[2].lower())"
   ]
  },
  {
   "cell_type": "markdown",
   "metadata": {
    "pycharm": {
     "name": "#%% md\n"
    }
   },
   "source": [
    "## 3.2 Changing, Adding, and Removing Elements"
   ]
  },
  {
   "cell_type": "code",
   "execution_count": 19,
   "metadata": {
    "ExecuteTime": {
     "end_time": "2020-02-05T15:41:15.161425Z",
     "start_time": "2020-02-05T15:41:15.155439Z"
    },
    "pycharm": {
     "is_executing": false,
     "name": "#%%\n"
    }
   },
   "outputs": [
    {
     "name": "stdout",
     "output_type": "stream",
     "text": [
      "['trek', 'fenghuang', 'jieante', 'haiou']\n",
      "['trek', 'fenghuang', 'jieante', 'ziyouren']\n"
     ]
    }
   ],
   "source": [
    "# change\n",
    "print(bicycles)\n",
    "bicycles[3]='ziyouren'\n",
    "print(bicycles)"
   ]
  },
  {
   "cell_type": "code",
   "execution_count": 20,
   "metadata": {
    "ExecuteTime": {
     "end_time": "2020-02-05T15:41:15.307220Z",
     "start_time": "2020-02-05T15:41:15.301236Z"
    },
    "pycharm": {
     "is_executing": false,
     "name": "#%%\n"
    }
   },
   "outputs": [
    {
     "name": "stdout",
     "output_type": "stream",
     "text": [
      "['trek', 'fenghuang', 'jieante', 'ziyouren']\n",
      "['trek', 'fenghuang', 'jieante', 'ziyouren', 'wuma']\n"
     ]
    }
   ],
   "source": [
    "# add use append()\n",
    "print(bicycles)\n",
    "bicycles.append('wuma')\n",
    "print(bicycles)"
   ]
  },
  {
   "cell_type": "code",
   "execution_count": 21,
   "metadata": {
    "ExecuteTime": {
     "end_time": "2020-02-05T15:41:15.441801Z",
     "start_time": "2020-02-05T15:41:15.435786Z"
    },
    "pycharm": {
     "is_executing": false,
     "name": "#%%\n"
    }
   },
   "outputs": [
    {
     "name": "stdout",
     "output_type": "stream",
     "text": [
      "['trek', 'fenghuang', 'jiaozuo', 'jieante', 'ziyouren', 'wuma']\n"
     ]
    }
   ],
   "source": [
    "# insert\n",
    "bicycles.insert(2,'jiaozuo')\n",
    "print(bicycles)"
   ]
  },
  {
   "cell_type": "code",
   "execution_count": 22,
   "metadata": {
    "ExecuteTime": {
     "end_time": "2020-02-05T15:41:15.561650Z",
     "start_time": "2020-02-05T15:41:15.556663Z"
    },
    "pycharm": {
     "is_executing": false,
     "name": "#%%\n"
    }
   },
   "outputs": [
    {
     "name": "stdout",
     "output_type": "stream",
     "text": [
      "['trek', 'fenghuang', 'jieante', 'ziyouren', 'wuma']\n"
     ]
    }
   ],
   "source": [
    "# delete using del\n",
    "del bicycles[2]\n",
    "print(bicycles)"
   ]
  },
  {
   "cell_type": "code",
   "execution_count": 23,
   "metadata": {
    "ExecuteTime": {
     "end_time": "2020-02-05T15:41:15.708255Z",
     "start_time": "2020-02-05T15:41:15.701273Z"
    },
    "pycharm": {
     "is_executing": false,
     "name": "#%%\n"
    }
   },
   "outputs": [
    {
     "name": "stdout",
     "output_type": "stream",
     "text": [
      "trek\n",
      "['fenghuang', 'jieante', 'ziyouren', 'wuma']\n"
     ]
    }
   ],
   "source": [
    "# delete using pop()--index\n",
    "print(bicycles.pop(0))\n",
    "print(bicycles)"
   ]
  },
  {
   "cell_type": "code",
   "execution_count": 24,
   "metadata": {
    "ExecuteTime": {
     "end_time": "2020-02-05T15:41:15.851611Z",
     "start_time": "2020-02-05T15:41:15.845657Z"
    },
    "pycharm": {
     "is_executing": false,
     "name": "#%%\n"
    }
   },
   "outputs": [
    {
     "name": "stdout",
     "output_type": "stream",
     "text": [
      "wuma\n",
      "['fenghuang', 'jieante', 'ziyouren']\n"
     ]
    }
   ],
   "source": [
    "# delete using pop() 默认删除最后一个\n",
    "print(bicycles.pop())\n",
    "print(bicycles)"
   ]
  },
  {
   "cell_type": "code",
   "execution_count": 25,
   "metadata": {
    "ExecuteTime": {
     "end_time": "2020-02-05T15:41:15.973283Z",
     "start_time": "2020-02-05T15:41:15.967301Z"
    },
    "pycharm": {
     "is_executing": false,
     "name": "#%%\n"
    }
   },
   "outputs": [
    {
     "name": "stdout",
     "output_type": "stream",
     "text": [
      "['fenghuang', 'ziyouren']\n"
     ]
    }
   ],
   "source": [
    "# delete using remove() 括号内不能是list\n",
    "bicycles.remove('jieante')\n",
    "print(bicycles)"
   ]
  },
  {
   "cell_type": "markdown",
   "metadata": {
    "pycharm": {
     "is_executing": false,
     "name": "#%% md\n"
    }
   },
   "source": [
    "## 3.3 organize list"
   ]
  },
  {
   "cell_type": "code",
   "execution_count": 26,
   "metadata": {
    "ExecuteTime": {
     "end_time": "2020-02-05T15:41:16.194691Z",
     "start_time": "2020-02-05T15:41:16.187715Z"
    },
    "pycharm": {
     "is_executing": false,
     "name": "#%%\n"
    }
   },
   "outputs": [
    {
     "name": "stdout",
     "output_type": "stream",
     "text": [
      "['bebi', 'jaozuo', 'zhengzhou', 'jiyuan', 'shangqiu']\n",
      "['zhengzhou', 'shangqiu', 'jiyuan', 'jaozuo', 'bebi']\n"
     ]
    }
   ],
   "source": [
    "#永久排序 sort()\n",
    "city=['bebi','jaozuo','zhengzhou','jiyuan','shangqiu']\n",
    "print(city)\n",
    "city.sort(reverse=True)\n",
    "print(city)"
   ]
  },
  {
   "cell_type": "code",
   "execution_count": 27,
   "metadata": {
    "ExecuteTime": {
     "end_time": "2020-02-05T15:41:16.346287Z",
     "start_time": "2020-02-05T15:41:16.339309Z"
    },
    "pycharm": {
     "is_executing": false,
     "name": "#%%\n"
    }
   },
   "outputs": [
    {
     "name": "stdout",
     "output_type": "stream",
     "text": [
      "Here is the sorted list:\n",
      "['bebi', 'jaozuo', 'jiyuan', 'shangqiu', 'zhengzhou']\n",
      "Here is the original list:\n",
      "['bebi', 'jaozuo', 'zhengzhou', 'jiyuan', 'shangqiu']\n"
     ]
    }
   ],
   "source": [
    "city=['bebi','jaozuo','zhengzhou','jiyuan','shangqiu']\n",
    "print('Here is the sorted list:')\n",
    "print(sorted(city))\n",
    "print('Here is the original list:')\n",
    "print(city)\n",
    "\n"
   ]
  },
  {
   "cell_type": "code",
   "execution_count": 28,
   "metadata": {
    "ExecuteTime": {
     "end_time": "2020-02-05T15:41:16.481465Z",
     "start_time": "2020-02-05T15:41:16.475481Z"
    },
    "pycharm": {
     "is_executing": false,
     "name": "#%%\n"
    }
   },
   "outputs": [
    {
     "name": "stdout",
     "output_type": "stream",
     "text": [
      "['zhengzhou', 'shangqiu', 'jiyuan', 'jaozuo', 'bebi']\n"
     ]
    }
   ],
   "source": [
    "print(sorted(city,reverse=True))\n",
    "\n"
   ]
  },
  {
   "cell_type": "code",
   "execution_count": 29,
   "metadata": {
    "ExecuteTime": {
     "end_time": "2020-02-05T15:41:16.611151Z",
     "start_time": "2020-02-05T15:41:16.605201Z"
    },
    "pycharm": {
     "is_executing": false,
     "name": "#%%\n"
    }
   },
   "outputs": [
    {
     "name": "stdout",
     "output_type": "stream",
     "text": [
      "['bebi', 'jaozuo', 'zhengzhou', 'jiyuan', 'shangqiu']\n",
      "['shangqiu', 'jiyuan', 'zhengzhou', 'jaozuo', 'bebi']\n"
     ]
    }
   ],
   "source": [
    "# 颠倒list顺序 reverse()\n",
    "print(city)\n",
    "city.reverse()\n",
    "print(city)"
   ]
  },
  {
   "cell_type": "code",
   "execution_count": 30,
   "metadata": {
    "ExecuteTime": {
     "end_time": "2020-02-05T15:41:16.761782Z",
     "start_time": "2020-02-05T15:41:16.754802Z"
    },
    "pycharm": {
     "is_executing": false,
     "name": "#%%\n"
    }
   },
   "outputs": [
    {
     "data": {
      "text/plain": [
       "5"
      ]
     },
     "execution_count": 30,
     "metadata": {},
     "output_type": "execute_result"
    }
   ],
   "source": [
    "# list长度\n",
    "len(city)\n",
    "\n"
   ]
  },
  {
   "cell_type": "markdown",
   "metadata": {
    "pycharm": {
     "name": "#%% md\n"
    }
   },
   "source": [
    "# 四.列表操作"
   ]
  },
  {
   "cell_type": "markdown",
   "metadata": {
    "pycharm": {
     "name": "#%% md\n"
    }
   },
   "source": [
    "## 4.1遍历整个列表"
   ]
  },
  {
   "cell_type": "code",
   "execution_count": 31,
   "metadata": {
    "ExecuteTime": {
     "end_time": "2020-02-05T15:41:17.031099Z",
     "start_time": "2020-02-05T15:41:17.024121Z"
    },
    "pycharm": {
     "is_executing": false,
     "name": "#%%\n"
    }
   },
   "outputs": [
    {
     "name": "stdout",
     "output_type": "stream",
     "text": [
      "shangqiu\n",
      "jiyuan\n",
      "zhengzhou\n",
      "jaozuo\n",
      "bebi\n"
     ]
    }
   ],
   "source": [
    "for i in city:\n",
    "    print(i)\n",
    "\n"
   ]
  },
  {
   "cell_type": "markdown",
   "metadata": {
    "pycharm": {
     "name": "#%% md\n"
    }
   },
   "source": [
    "## 4.3创建数值列表"
   ]
  },
  {
   "cell_type": "markdown",
   "metadata": {
    "pycharm": {
     "name": "#%% md\n"
    }
   },
   "source": [
    "### 4.3.1 range()"
   ]
  },
  {
   "cell_type": "code",
   "execution_count": 32,
   "metadata": {
    "ExecuteTime": {
     "end_time": "2020-02-05T15:41:17.344779Z",
     "start_time": "2020-02-05T15:41:17.339829Z"
    },
    "pycharm": {
     "is_executing": false,
     "name": "#%%\n"
    }
   },
   "outputs": [
    {
     "name": "stdout",
     "output_type": "stream",
     "text": [
      "1\n",
      "2\n",
      "3\n",
      "4\n"
     ]
    }
   ],
   "source": [
    "for i in range(1,5):\n",
    "    print(i)\n",
    "\n",
    "\n",
    "\n"
   ]
  },
  {
   "cell_type": "markdown",
   "metadata": {
    "pycharm": {
     "name": "#%% md\n"
    }
   },
   "source": [
    "### 4.3.2 使用range()创建数值列表"
   ]
  },
  {
   "cell_type": "code",
   "execution_count": 33,
   "metadata": {
    "ExecuteTime": {
     "end_time": "2020-02-05T15:41:17.559238Z",
     "start_time": "2020-02-05T15:41:17.553221Z"
    },
    "pycharm": {
     "is_executing": false,
     "name": "#%%\n"
    }
   },
   "outputs": [
    {
     "name": "stdout",
     "output_type": "stream",
     "text": [
      "[1, 2, 3, 4, 5]\n"
     ]
    }
   ],
   "source": [
    "numbers=list(range(1,6))\n",
    "print(numbers)\n",
    "\n"
   ]
  },
  {
   "cell_type": "code",
   "execution_count": 34,
   "metadata": {
    "ExecuteTime": {
     "end_time": "2020-02-05T15:41:17.726758Z",
     "start_time": "2020-02-05T15:41:17.718779Z"
    },
    "pycharm": {
     "is_executing": false,
     "name": "#%%\n"
    }
   },
   "outputs": [
    {
     "name": "stdout",
     "output_type": "stream",
     "text": [
      "[1, 3, 5, 7, 9, 11, 13, 15, 17, 19, 21, 23, 25, 27, 29, 31, 33, 35, 37, 39, 41, 43, 45, 47, 49, 51, 53, 55, 57, 59, 61, 63, 65, 67, 69, 71, 73, 75, 77, 79, 81, 83, 85, 87, 89, 91, 93, 95, 97, 99]\n",
      "[2, 4, 6, 8, 10, 12, 14, 16, 18, 20, 22, 24, 26, 28, 30, 32, 34, 36, 38, 40, 42, 44, 46, 48, 50, 52, 54, 56, 58, 60, 62, 64, 66, 68, 70, 72, 74, 76, 78, 80, 82, 84, 86, 88, 90, 92, 94, 96, 98, 100]\n"
     ]
    }
   ],
   "source": [
    "odd_numbers=list(range(1,101,2))\n",
    "print(odd_numbers)\n",
    "even_numbers=list(range(2,101,2))\n",
    "print(even_numbers)"
   ]
  },
  {
   "cell_type": "code",
   "execution_count": 35,
   "metadata": {
    "ExecuteTime": {
     "end_time": "2020-02-05T15:41:17.875361Z",
     "start_time": "2020-02-05T15:41:17.870376Z"
    },
    "pycharm": {
     "is_executing": false,
     "name": "#%%\n"
    }
   },
   "outputs": [
    {
     "name": "stdout",
     "output_type": "stream",
     "text": [
      "[1, 4, 9, 16, 25, 36, 49, 64, 81, 100]\n"
     ]
    }
   ],
   "source": [
    "squares=[]\n",
    "for i in range(1,11):\n",
    "    squares.append(i**2)\n",
    "print(squares)\n"
   ]
  },
  {
   "cell_type": "code",
   "execution_count": 36,
   "metadata": {
    "ExecuteTime": {
     "end_time": "2020-02-05T15:41:18.056390Z",
     "start_time": "2020-02-05T15:41:18.050405Z"
    },
    "pycharm": {
     "is_executing": false,
     "name": "#%%\n"
    }
   },
   "outputs": [
    {
     "name": "stdout",
     "output_type": "stream",
     "text": [
      "[1]\n",
      "[1, 4]\n",
      "[1, 4, 9]\n",
      "[1, 4, 9, 16]\n",
      "[1, 4, 9, 16, 25]\n",
      "[1, 4, 9, 16, 25, 36]\n",
      "[1, 4, 9, 16, 25, 36, 49]\n",
      "[1, 4, 9, 16, 25, 36, 49, 64]\n",
      "[1, 4, 9, 16, 25, 36, 49, 64, 81]\n",
      "[1, 4, 9, 16, 25, 36, 49, 64, 81, 100]\n"
     ]
    }
   ],
   "source": [
    "squares=[]\n",
    "for i in range(1,11):\n",
    "    squares.append(i**2)\n",
    "    print(squares)\n",
    "\n"
   ]
  },
  {
   "cell_type": "markdown",
   "metadata": {
    "pycharm": {
     "name": "#%% md\n"
    }
   },
   "source": [
    "### 4.3.3 对数字列表执行简单的统计计算"
   ]
  },
  {
   "cell_type": "code",
   "execution_count": 37,
   "metadata": {
    "ExecuteTime": {
     "end_time": "2020-02-05T15:41:18.264477Z",
     "start_time": "2020-02-05T15:41:18.258494Z"
    },
    "pycharm": {
     "is_executing": false,
     "name": "#%%\n"
    }
   },
   "outputs": [
    {
     "name": "stdout",
     "output_type": "stream",
     "text": [
      "99\n",
      "1\n",
      "2500\n"
     ]
    }
   ],
   "source": [
    "print(max(odd_numbers))\n",
    "print(min(odd_numbers))\n",
    "print(sum(odd_numbers))\n",
    "\n"
   ]
  },
  {
   "cell_type": "markdown",
   "metadata": {
    "pycharm": {
     "name": "#%% md\n"
    }
   },
   "source": [
    "### 4.3.4 列表解析"
   ]
  },
  {
   "cell_type": "code",
   "execution_count": 38,
   "metadata": {
    "ExecuteTime": {
     "end_time": "2020-02-05T15:41:18.508397Z",
     "start_time": "2020-02-05T15:41:18.502412Z"
    },
    "pycharm": {
     "is_executing": false,
     "name": "#%%\n"
    }
   },
   "outputs": [
    {
     "name": "stdout",
     "output_type": "stream",
     "text": [
      "[1, 4, 9, 16, 25, 36, 49, 64, 81, 100]\n"
     ]
    }
   ],
   "source": [
    "#将for循环和创建新元素的代码合并成一行，并自动附加新元素\n",
    "squares=[i**2 for i in range(1,11)]\n",
    "print(squares)\n"
   ]
  },
  {
   "cell_type": "markdown",
   "metadata": {
    "pycharm": {
     "name": "#%% md\n"
    }
   },
   "source": [
    "## 4.4 使用列表的一部分\n",
    "### 4.4.1 切片"
   ]
  },
  {
   "cell_type": "code",
   "execution_count": 39,
   "metadata": {
    "ExecuteTime": {
     "end_time": "2020-02-05T15:41:18.737070Z",
     "start_time": "2020-02-05T15:41:18.728096Z"
    },
    "pycharm": {
     "is_executing": false,
     "name": "#%%\n"
    }
   },
   "outputs": [
    {
     "name": "stdout",
     "output_type": "stream",
     "text": [
      "['shangqiu', 'jiyuan', 'zhengzhou', 'jaozuo', 'bebi']\n",
      "['jiyuan', 'zhengzhou']\n",
      "['shangqiu', 'jiyuan', 'zhengzhou']\n",
      "['jaozuo', 'bebi']\n",
      "['shangqiu', 'jiyuan', 'zhengzhou']\n",
      "['zhengzhou', 'jaozuo', 'bebi']\n"
     ]
    }
   ],
   "source": [
    "print(city)\n",
    "print(city[1:3])\n",
    "print(city[:3])\n",
    "print(city[3:])\n",
    "print(city[:-2])\n",
    "print(city[-3:])"
   ]
  },
  {
   "cell_type": "markdown",
   "metadata": {
    "pycharm": {
     "name": "#%% md\n"
    }
   },
   "source": [
    "### 遍历切片"
   ]
  },
  {
   "cell_type": "code",
   "execution_count": 40,
   "metadata": {
    "ExecuteTime": {
     "end_time": "2020-02-05T15:41:18.949504Z",
     "start_time": "2020-02-05T15:41:18.942522Z"
    },
    "pycharm": {
     "is_executing": false,
     "name": "#%%\n"
    }
   },
   "outputs": [
    {
     "name": "stdout",
     "output_type": "stream",
     "text": [
      "Shangqiu\n",
      "Jiyuan\n",
      "Zhengzhou\n",
      "Jaozuo\n",
      "Bebi\n"
     ]
    }
   ],
   "source": [
    "for i in city:\n",
    "    print(i.title())\n"
   ]
  },
  {
   "cell_type": "markdown",
   "metadata": {
    "pycharm": {
     "name": "#%% md\n"
    }
   },
   "source": [
    "### copy list"
   ]
  },
  {
   "cell_type": "code",
   "execution_count": 41,
   "metadata": {
    "ExecuteTime": {
     "end_time": "2020-02-05T15:41:19.157979Z",
     "start_time": "2020-02-05T15:41:19.150967Z"
    },
    "pycharm": {
     "is_executing": false,
     "name": "#%%\n"
    }
   },
   "outputs": [
    {
     "name": "stdout",
     "output_type": "stream",
     "text": [
      "['shangqiu', 'jiyuan', 'zhengzhou', 'jaozuo', 'bebi', 'wuhan']\n",
      "['shangqiu', 'jiyuan', 'zhengzhou', 'jaozuo', 'bebi', 'shanghai']\n"
     ]
    }
   ],
   "source": [
    "#正确copy方式\n",
    "citycopy=city[:]\n",
    "citycopy.append('shanghai')\n",
    "city.append('wuhan')\n",
    "print(city)\n",
    "print(citycopy)\n",
    "\n"
   ]
  },
  {
   "cell_type": "code",
   "execution_count": 42,
   "metadata": {
    "ExecuteTime": {
     "end_time": "2020-02-05T15:41:19.306549Z",
     "start_time": "2020-02-05T15:41:19.300564Z"
    },
    "pycharm": {
     "is_executing": false,
     "name": "#%%\n"
    }
   },
   "outputs": [
    {
     "name": "stdout",
     "output_type": "stream",
     "text": [
      "['shangqiu', 'jiyuan', 'zhengzhou', 'jaozuo', 'bebi', 'wuhan', 'haerbin', 'shenyang']\n",
      "['shangqiu', 'jiyuan', 'zhengzhou', 'jaozuo', 'bebi', 'wuhan', 'haerbin', 'shenyang']\n"
     ]
    }
   ],
   "source": [
    "#错误copy方式\n",
    "cityerror=city\n",
    "city.append('haerbin')\n",
    "cityerror.append('shenyang')\n",
    "print(city)\n",
    "print(cityerror)"
   ]
  },
  {
   "cell_type": "markdown",
   "metadata": {
    "pycharm": {
     "name": "#%% md\n"
    }
   },
   "source": [
    "## 4.5元组\n",
    "### 4.5.1 定义元组"
   ]
  },
  {
   "cell_type": "code",
   "execution_count": 43,
   "metadata": {
    "ExecuteTime": {
     "end_time": "2020-02-05T15:41:19.533943Z",
     "start_time": "2020-02-05T15:41:19.515023Z"
    },
    "pycharm": {
     "is_executing": false,
     "name": "#%%\n"
    }
   },
   "outputs": [
    {
     "name": "stdout",
     "output_type": "stream",
     "text": [
      "jiaozuo\n"
     ]
    },
    {
     "ename": "TypeError",
     "evalue": "'tuple' object does not support item assignment",
     "output_type": "error",
     "traceback": [
      "\u001b[1;31m---------------------------------------------------------------------------\u001b[0m",
      "\u001b[1;31mTypeError\u001b[0m                                 Traceback (most recent call last)",
      "\u001b[1;32m<ipython-input-43-917e6dfda1a1>\u001b[0m in \u001b[0;36m<module>\u001b[1;34m\u001b[0m\n\u001b[0;32m      2\u001b[0m \u001b[0mcitytuple\u001b[0m\u001b[1;33m=\u001b[0m\u001b[1;33m(\u001b[0m\u001b[1;34m'jiaozuo'\u001b[0m\u001b[1;33m,\u001b[0m\u001b[1;34m'jiyuan'\u001b[0m\u001b[1;33m,\u001b[0m\u001b[1;34m'hebi'\u001b[0m\u001b[1;33m,\u001b[0m\u001b[1;34m'zhengzhou'\u001b[0m\u001b[1;33m,\u001b[0m\u001b[1;34m'kaifneg'\u001b[0m\u001b[1;33m)\u001b[0m\u001b[1;33m\u001b[0m\u001b[1;33m\u001b[0m\u001b[0m\n\u001b[0;32m      3\u001b[0m \u001b[0mprint\u001b[0m\u001b[1;33m(\u001b[0m\u001b[0mcitytuple\u001b[0m\u001b[1;33m[\u001b[0m\u001b[1;36m0\u001b[0m\u001b[1;33m]\u001b[0m\u001b[1;33m)\u001b[0m\u001b[1;33m\u001b[0m\u001b[1;33m\u001b[0m\u001b[0m\n\u001b[1;32m----> 4\u001b[1;33m \u001b[0mcitytuple\u001b[0m\u001b[1;33m[\u001b[0m\u001b[1;36m0\u001b[0m\u001b[1;33m]\u001b[0m\u001b[1;33m=\u001b[0m\u001b[1;34m'luoyang'\u001b[0m\u001b[1;33m\u001b[0m\u001b[1;33m\u001b[0m\u001b[0m\n\u001b[0m",
      "\u001b[1;31mTypeError\u001b[0m: 'tuple' object does not support item assignment"
     ]
    }
   ],
   "source": [
    "#元组类似list，但是不支持修改元素\n",
    "citytuple=('jiaozuo','jiyuan','hebi','zhengzhou','kaifneg')\n",
    "print(citytuple[0])\n",
    "citytuple[0]='luoyang'"
   ]
  },
  {
   "cell_type": "markdown",
   "metadata": {
    "pycharm": {
     "is_executing": false,
     "name": "#%% md\n"
    }
   },
   "source": [
    "# 5 if\n",
    "## 5.1 easy example  "
   ]
  },
  {
   "cell_type": "code",
   "execution_count": 44,
   "metadata": {
    "ExecuteTime": {
     "end_time": "2020-02-05T15:41:19.775409Z",
     "start_time": "2020-02-05T15:41:19.770422Z"
    },
    "pycharm": {
     "is_executing": false,
     "name": "#%%\n"
    }
   },
   "outputs": [
    {
     "name": "stdout",
     "output_type": "stream",
     "text": [
      "common city\n",
      "The city where my lover lives\n",
      "common city\n",
      "common city\n",
      "common city\n",
      "common city\n",
      "common city\n",
      "common city\n"
     ]
    }
   ],
   "source": [
    "for i in city:\n",
    "    if i =='jiyuan':\n",
    "        print('The city where my lover lives')\n",
    "    else:\n",
    "        print('common city')"
   ]
  },
  {
   "cell_type": "markdown",
   "metadata": {
    "pycharm": {
     "name": "#%% md\n"
    }
   },
   "source": [
    "## 5.2 条件测试\n",
    "（如果每个if语句的核心都是一个值为True或False的表达式，这种表达式叫做条件测试"
   ]
  },
  {
   "cell_type": "code",
   "execution_count": 45,
   "metadata": {
    "ExecuteTime": {
     "end_time": "2020-02-05T15:41:19.972880Z",
     "start_time": "2020-02-05T15:41:19.966897Z"
    },
    "pycharm": {
     "is_executing": false,
     "name": "#%%\n"
    }
   },
   "outputs": [
    {
     "name": "stdout",
     "output_type": "stream",
     "text": [
      "You are foolish!\n"
     ]
    }
   ],
   "source": [
    "lover_city='zhengzhou'\n",
    "if lover_city !='jiyuan':\n",
    "    print('You are foolish!')"
   ]
  },
  {
   "cell_type": "markdown",
   "metadata": {
    "pycharm": {
     "name": "#%% md\n"
    }
   },
   "source": [
    "### 5.2.5 检查多个条件 and or"
   ]
  },
  {
   "cell_type": "code",
   "execution_count": 46,
   "metadata": {
    "ExecuteTime": {
     "end_time": "2020-02-05T15:41:20.167699Z",
     "start_time": "2020-02-05T15:41:20.160713Z"
    },
    "pycharm": {
     "is_executing": false,
     "name": "#%%\n"
    }
   },
   "outputs": [
    {
     "data": {
      "text/plain": [
       "True"
      ]
     },
     "execution_count": 46,
     "metadata": {},
     "output_type": "execute_result"
    }
   ],
   "source": [
    "'jiyuan' in city and 'zhengzhou' in city"
   ]
  },
  {
   "cell_type": "code",
   "execution_count": 47,
   "metadata": {
    "ExecuteTime": {
     "end_time": "2020-02-05T15:41:20.305151Z",
     "start_time": "2020-02-05T15:41:20.298140Z"
    },
    "pycharm": {
     "is_executing": false,
     "name": "#%%\n"
    }
   },
   "outputs": [
    {
     "name": "stdout",
     "output_type": "stream",
     "text": [
      "False\n",
      "True\n"
     ]
    }
   ],
   "source": [
    "print('beijing' in city and 'jiyuan' in city)\n",
    "print('beijing' in city or 'jiyuan' in city)\n"
   ]
  },
  {
   "cell_type": "markdown",
   "metadata": {
    "pycharm": {
     "name": "#%% md\n"
    }
   },
   "source": [
    "## 5.3 if\n",
    "### 5.3.2 if-else"
   ]
  },
  {
   "cell_type": "code",
   "execution_count": 48,
   "metadata": {
    "ExecuteTime": {
     "end_time": "2020-02-05T15:41:20.506195Z",
     "start_time": "2020-02-05T15:41:20.500209Z"
    },
    "pycharm": {
     "is_executing": false,
     "name": "#%%\n"
    }
   },
   "outputs": [
    {
     "name": "stdout",
     "output_type": "stream",
     "text": [
      "Sorry, you are too young!\n"
     ]
    }
   ],
   "source": [
    "age=17\n",
    "if age >= 18:\n",
    "    print('You can vote!')\n",
    "else:\n",
    "    print('Sorry, you are too young!')"
   ]
  },
  {
   "cell_type": "code",
   "execution_count": 49,
   "metadata": {
    "ExecuteTime": {
     "end_time": "2020-02-05T15:41:20.659782Z",
     "start_time": "2020-02-05T15:41:20.652807Z"
    },
    "pycharm": {
     "is_executing": false,
     "name": "#%%\n"
    }
   },
   "outputs": [
    {
     "name": "stdout",
     "output_type": "stream",
     "text": [
      "You are youth,so you can pay half.\n",
      "You are elder, so you can pay nothing.\n",
      "You are elder, so you can pay nothing.\n",
      "You are adult, so you must pay full.\n"
     ]
    }
   ],
   "source": [
    "ages=[3,66,70,22]\n",
    "for age in ages:\n",
    "    if age<=18:\n",
    "        print('You are youth,so you can pay half.')\n",
    "    elif age<=65:\n",
    "        print('You are adult, so you must pay full.')\n",
    "    else:\n",
    "        print('You are elder, so you can pay nothing.')\n"
   ]
  },
  {
   "cell_type": "markdown",
   "metadata": {
    "pycharm": {
     "name": "#%% md\n"
    }
   },
   "source": [
    "### 5.3.6 测试多个条件"
   ]
  },
  {
   "cell_type": "code",
   "execution_count": 50,
   "metadata": {
    "ExecuteTime": {
     "end_time": "2020-02-05T15:41:20.919109Z",
     "start_time": "2020-02-05T15:41:20.909135Z"
    },
    "pycharm": {
     "is_executing": false,
     "name": "#%%\n"
    }
   },
   "outputs": [
    {
     "name": "stdout",
     "output_type": "stream",
     "text": [
      "Adding mushrooms!\n",
      "Adding extra cheese!\n",
      "\n",
      "Finished making your pizza!\n"
     ]
    }
   ],
   "source": [
    "#披萨店里有mushrooms、pepperoni和extra cheese三种配料，\n",
    "# 顾客点了两种mushrooms和extra cheese两种配料。\n",
    "requested_toppings=['mushrooms','extra cheese']\n",
    "if 'mushrooms' in requested_toppings:\n",
    "    print('Adding mushrooms!')\n",
    "if 'pepperoni' in requested_toppings:\n",
    "    print('Adding pepperoni!')\n",
    "if 'extra cheese' in requested_toppings:\n",
    "    print('Adding extra cheese!')\n",
    "print('\\nFinished making your pizza!')"
   ]
  },
  {
   "cell_type": "code",
   "execution_count": 51,
   "metadata": {
    "ExecuteTime": {
     "end_time": "2020-02-05T15:41:21.115581Z",
     "start_time": "2020-02-05T15:41:21.108600Z"
    },
    "pycharm": {
     "is_executing": false,
     "name": "#%%\n"
    }
   },
   "outputs": [
    {
     "name": "stdout",
     "output_type": "stream",
     "text": [
      "Adding mushrooms!\n",
      "\n",
      "Finished making your pizza!\n"
     ]
    }
   ],
   "source": [
    "if 'mushrooms' in requested_toppings:\n",
    "    print('Adding mushrooms!')\n",
    "elif'pepperoni' in requested_toppings:\n",
    "    print('Adding pepperoni!')\n",
    "elif 'extra cheese' in requested_toppings:\n",
    "    print('Adding extra cheese!')\n",
    "print('\\nFinished making your pizza!')\n",
    "#这种结构，只要遇到返回值为‘True’，就不再进行判断\n"
   ]
  },
  {
   "cell_type": "markdown",
   "metadata": {
    "pycharm": {
     "name": "#%% md\n"
    }
   },
   "source": [
    "# 6 字典\n",
    "## 6.1 一个简单的字典"
   ]
  },
  {
   "cell_type": "code",
   "execution_count": 52,
   "metadata": {
    "ExecuteTime": {
     "end_time": "2020-02-05T15:41:21.315050Z",
     "start_time": "2020-02-05T15:41:21.307070Z"
    }
   },
   "outputs": [
    {
     "name": "stdout",
     "output_type": "stream",
     "text": [
      "green\n",
      "5\n"
     ]
    }
   ],
   "source": [
    "alien_0={'color':'green','points':5}#'color'为‘键’，‘green’为‘值’\n",
    "print(alien_0['color'])\n",
    "print(alien_0['points'])"
   ]
  },
  {
   "cell_type": "markdown",
   "metadata": {},
   "source": [
    "## 6.2 使用字典\n",
    "### 6.2.1访问字典中的值"
   ]
  },
  {
   "cell_type": "code",
   "execution_count": 53,
   "metadata": {
    "ExecuteTime": {
     "end_time": "2020-02-05T15:41:21.489648Z",
     "start_time": "2020-02-05T15:41:21.484107Z"
    }
   },
   "outputs": [
    {
     "data": {
      "text/plain": [
       "'green'"
      ]
     },
     "execution_count": 53,
     "metadata": {},
     "output_type": "execute_result"
    }
   ],
   "source": [
    "alien_0['color']"
   ]
  },
  {
   "cell_type": "markdown",
   "metadata": {},
   "source": [
    "### 6.2.2 添加键-值对 "
   ]
  },
  {
   "cell_type": "code",
   "execution_count": 54,
   "metadata": {
    "ExecuteTime": {
     "end_time": "2020-02-05T15:41:21.688078Z",
     "start_time": "2020-02-05T15:41:21.682091Z"
    }
   },
   "outputs": [
    {
     "name": "stdout",
     "output_type": "stream",
     "text": [
      "{'color': 'green', 'points': 5}\n",
      "{'color': 'green', 'points': 5, 'x_position': 0, 'y_position': 25}\n"
     ]
    }
   ],
   "source": [
    "print(alien_0)\n",
    "alien_0['x_position']=0\n",
    "alien_0['y_position']=25\n",
    "print(alien_0)"
   ]
  },
  {
   "cell_type": "markdown",
   "metadata": {},
   "source": [
    "### 6.2.5 删除键-值对"
   ]
  },
  {
   "cell_type": "code",
   "execution_count": 55,
   "metadata": {
    "ExecuteTime": {
     "end_time": "2020-02-05T15:41:21.953372Z",
     "start_time": "2020-02-05T15:41:21.943400Z"
    }
   },
   "outputs": [
    {
     "name": "stdout",
     "output_type": "stream",
     "text": [
      "{'color': 'green', 'points': 5, 'x_position': 0, 'y_position': 25}\n",
      "{'points': 5, 'x_position': 0, 'y_position': 25}\n"
     ]
    }
   ],
   "source": [
    "print(alien_0)\n",
    "del alien_0['color']\n",
    "print(alien_0)"
   ]
  },
  {
   "cell_type": "markdown",
   "metadata": {},
   "source": [
    "### 6.2.6 由类似对象组成的字典"
   ]
  },
  {
   "cell_type": "code",
   "execution_count": 56,
   "metadata": {
    "ExecuteTime": {
     "end_time": "2020-02-05T15:41:22.319076Z",
     "start_time": "2020-02-05T15:41:22.314088Z"
    }
   },
   "outputs": [],
   "source": [
    "favorite_languages={\n",
    "    'WangJinqi':'Python',\n",
    "    'QinZhiran':'R',\n",
    "    'WangHongen':'C++',\n",
    "    'YanBingru':'Python',\n",
    "}"
   ]
  },
  {
   "cell_type": "markdown",
   "metadata": {},
   "source": [
    "## 6.3 遍历字典\n",
    "### 6.3.1 遍历所有的键-值对"
   ]
  },
  {
   "cell_type": "code",
   "execution_count": 57,
   "metadata": {
    "ExecuteTime": {
     "end_time": "2020-02-05T15:41:22.565447Z",
     "start_time": "2020-02-05T15:41:22.559467Z"
    }
   },
   "outputs": [
    {
     "name": "stdout",
     "output_type": "stream",
     "text": [
      "Name:WangJinqi\n",
      "Language:Python\n",
      "\n",
      "Name:QinZhiran\n",
      "Language:R\n",
      "\n",
      "Name:WangHongen\n",
      "Language:C++\n",
      "\n",
      "Name:YanBingru\n",
      "Language:Python\n",
      "\n"
     ]
    }
   ],
   "source": [
    "for key, value in favorite_languages.items():#D.items()得到字典中所有items\n",
    "    print('Name:'+ key)\n",
    "    print('Language:'+value+'\\n')"
   ]
  },
  {
   "cell_type": "code",
   "execution_count": 58,
   "metadata": {
    "ExecuteTime": {
     "end_time": "2020-02-05T15:41:22.706073Z",
     "start_time": "2020-02-05T15:41:22.701084Z"
    }
   },
   "outputs": [
    {
     "data": {
      "text/plain": [
       "dict_items([('WangJinqi', 'Python'), ('QinZhiran', 'R'), ('WangHongen', 'C++'), ('YanBingru', 'Python')])"
      ]
     },
     "execution_count": 58,
     "metadata": {},
     "output_type": "execute_result"
    }
   ],
   "source": [
    "favorite_languages.items()"
   ]
  },
  {
   "cell_type": "markdown",
   "metadata": {},
   "source": [
    "### 6.3.2 遍历字典中的所有键"
   ]
  },
  {
   "cell_type": "code",
   "execution_count": 61,
   "metadata": {
    "ExecuteTime": {
     "end_time": "2020-02-05T15:46:21.754132Z",
     "start_time": "2020-02-05T15:46:21.747149Z"
    }
   },
   "outputs": [
    {
     "name": "stdout",
     "output_type": "stream",
     "text": [
      "被调查的人有：\n",
      "WangJinqi\n",
      "QinZhiran\n",
      "WangHongen\n",
      "YanBingru\n"
     ]
    }
   ],
   "source": [
    "print('被调查的人有：')\n",
    "for name in favorite_languages.keys():\n",
    "    print(name)"
   ]
  },
  {
   "cell_type": "code",
   "execution_count": 62,
   "metadata": {
    "ExecuteTime": {
     "end_time": "2020-02-05T15:46:23.801164Z",
     "start_time": "2020-02-05T15:46:23.795180Z"
    }
   },
   "outputs": [
    {
     "name": "stdout",
     "output_type": "stream",
     "text": [
      "WangJinqi\n",
      "QinZhiran\n",
      "WangHongen\n",
      "YanBingru\n"
     ]
    }
   ],
   "source": [
    "for i in favorite_languages:\n",
    "    print(i)"
   ]
  },
  {
   "cell_type": "code",
   "execution_count": 63,
   "metadata": {
    "ExecuteTime": {
     "end_time": "2020-02-05T15:49:00.050387Z",
     "start_time": "2020-02-05T15:49:00.043406Z"
    }
   },
   "outputs": [
    {
     "name": "stdout",
     "output_type": "stream",
     "text": [
      "WangJinqi\n",
      "QinZhiran\n",
      "这是我的朋友QinZhiran\n",
      "WangHongen\n",
      "这是我的朋友WangHongen\n",
      "YanBingru\n"
     ]
    }
   ],
   "source": [
    "friends=['QinZhiran','WangHongen']\n",
    "for i in favorite_languages.keys():\n",
    "    print(i)\n",
    "    if i in friends:\n",
    "        print('这是我的朋友'+i)"
   ]
  },
  {
   "cell_type": "code",
   "execution_count": 66,
   "metadata": {
    "ExecuteTime": {
     "end_time": "2020-02-05T15:51:28.047013Z",
     "start_time": "2020-02-05T15:51:28.039999Z"
    }
   },
   "outputs": [
    {
     "data": {
      "text/plain": [
       "['YanBingru', 'WangJinqi', 'WangHongen', 'QinZhiran']"
      ]
     },
     "execution_count": 66,
     "metadata": {},
     "output_type": "execute_result"
    }
   ],
   "source": [
    "sorted(favorite_languages.keys(),reverse=True)"
   ]
  },
  {
   "cell_type": "markdown",
   "metadata": {},
   "source": [
    "### 6.3.4 遍历字典中的所有值"
   ]
  },
  {
   "cell_type": "code",
   "execution_count": 68,
   "metadata": {
    "ExecuteTime": {
     "end_time": "2020-02-05T16:00:23.379486Z",
     "start_time": "2020-02-05T16:00:23.373536Z"
    }
   },
   "outputs": [
    {
     "name": "stdout",
     "output_type": "stream",
     "text": [
      "The language mentioned are:\n",
      "R\n",
      "C++\n",
      "Python\n"
     ]
    }
   ],
   "source": [
    "print('The language mentioned are:')\n",
    "for i in set(favorite_languages.values()):\n",
    "      print(i)"
   ]
  }
 ],
 "metadata": {
  "kernelspec": {
   "display_name": "Python 3",
   "language": "python",
   "name": "python3"
  },
  "language_info": {
   "codemirror_mode": {
    "name": "ipython",
    "version": 3
   },
   "file_extension": ".py",
   "mimetype": "text/x-python",
   "name": "python",
   "nbconvert_exporter": "python",
   "pygments_lexer": "ipython3",
   "version": "3.7.6"
  },
  "nbTranslate": {
   "displayLangs": [
    "*"
   ],
   "hotkey": "alt-t",
   "langInMainMenu": true,
   "sourceLang": "en",
   "targetLang": "fr",
   "useGoogleTranslate": true
  },
  "pycharm": {
   "stem_cell": {
    "cell_type": "raw",
    "metadata": {
     "collapsed": false
    },
    "source": []
   }
  },
  "toc": {
   "base_numbering": 1,
   "nav_menu": {},
   "number_sections": true,
   "sideBar": true,
   "skip_h1_title": false,
   "title_cell": "Table of Contents",
   "title_sidebar": "Contents",
   "toc_cell": false,
   "toc_position": {},
   "toc_section_display": true,
   "toc_window_display": false
  },
  "varInspector": {
   "cols": {
    "lenName": 16,
    "lenType": 16,
    "lenVar": 40
   },
   "kernels_config": {
    "python": {
     "delete_cmd_postfix": "",
     "delete_cmd_prefix": "del ",
     "library": "var_list.py",
     "varRefreshCmd": "print(var_dic_list())"
    },
    "r": {
     "delete_cmd_postfix": ") ",
     "delete_cmd_prefix": "rm(",
     "library": "var_list.r",
     "varRefreshCmd": "cat(var_dic_list()) "
    }
   },
   "position": {
    "height": "324.86px",
    "left": "725px",
    "right": "20px",
    "top": "4px",
    "width": "434px"
   },
   "types_to_exclude": [
    "module",
    "function",
    "builtin_function_or_method",
    "instance",
    "_Feature"
   ],
   "window_display": true
  }
 },
 "nbformat": 4,
 "nbformat_minor": 1
}
