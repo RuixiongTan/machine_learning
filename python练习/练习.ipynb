{
 "cells": [
  {
   "cell_type": "code",
   "execution_count": 1,
   "metadata": {
    "pycharm": {
     "is_executing": false,
     "name": "#%%\n"
    }
   },
   "outputs": [],
   "source": [
    "import numpy as ny\n",
    "import pandas as pd"
   ]
  },
  {
   "cell_type": "markdown",
   "metadata": {
    "pycharm": {
     "name": "#%% md\n"
    }
   },
   "source": [
    "# 三. list"
   ]
  },
  {
   "cell_type": "markdown",
   "metadata": {
    "pycharm": {
     "name": "#%% md\n"
    }
   },
   "source": [
    "## 3.1 what is list?"
   ]
  },
  {
   "cell_type": "code",
   "execution_count": 2,
   "metadata": {
    "pycharm": {
     "is_executing": false,
     "name": "#%%\n"
    }
   },
   "outputs": [
    {
     "name": "stdout",
     "text": [
      "['trek', 'fenghuang', 'jieante', 'haiou']\n"
     ],
     "output_type": "stream"
    }
   ],
   "source": [
    "bicycles=['trek','fenghuang','jieante','haiou']\n",
    "print(bicycles)"
   ]
  },
  {
   "cell_type": "code",
   "execution_count": 3,
   "metadata": {
    "pycharm": {
     "is_executing": false,
     "name": "#%%\n"
    }
   },
   "outputs": [
    {
     "data": {
      "text/plain": "'jieante'"
     },
     "metadata": {},
     "output_type": "execute_result",
     "execution_count": 3
    }
   ],
   "source": [
    "bicycles[2]"
   ]
  },
  {
   "cell_type": "code",
   "execution_count": 4,
   "metadata": {
    "pycharm": {
     "is_executing": false,
     "name": "#%%\n"
    }
   },
   "outputs": [
    {
     "name": "stdout",
     "text": [
      "Jieante\n",
      "JIEANTE\n",
      "jieante\n"
     ],
     "output_type": "stream"
    }
   ],
   "source": [
    "print(bicycles[2].title())\n",
    "print(bicycles[2].upper())\n",
    "print(bicycles[2].lower())"
   ]
  },
  {
   "cell_type": "markdown",
   "metadata": {
    "pycharm": {
     "name": "#%% md\n"
    }
   },
   "source": [
    "## 3.2 Changing, Adding, and Removing Elements"
   ]
  },
  {
   "cell_type": "code",
   "execution_count": 5,
   "metadata": {
    "pycharm": {
     "is_executing": false,
     "name": "#%%\n"
    }
   },
   "outputs": [
    {
     "name": "stdout",
     "text": [
      "['trek', 'fenghuang', 'jieante', 'haiou']\n",
      "['trek', 'fenghuang', 'jieante', 'ziyouren']\n"
     ],
     "output_type": "stream"
    }
   ],
   "source": [
    "# change\n",
    "print(bicycles)\n",
    "bicycles[3]='ziyouren'\n",
    "print(bicycles)"
   ]
  },
  {
   "cell_type": "code",
   "execution_count": 6,
   "metadata": {
    "pycharm": {
     "is_executing": false,
     "name": "#%%\n"
    }
   },
   "outputs": [
    {
     "name": "stdout",
     "text": [
      "['trek', 'fenghuang', 'jieante', 'ziyouren']\n",
      "['trek', 'fenghuang', 'jieante', 'ziyouren', 'wuma']\n"
     ],
     "output_type": "stream"
    }
   ],
   "source": [
    "# add use append()\n",
    "print(bicycles)\n",
    "bicycles.append('wuma')\n",
    "print(bicycles)"
   ]
  },
  {
   "cell_type": "code",
   "execution_count": 7,
   "metadata": {
    "pycharm": {
     "is_executing": false,
     "name": "#%%\n"
    }
   },
   "outputs": [
    {
     "name": "stdout",
     "text": [
      "['trek', 'fenghuang', 'jiaozuo', 'jieante', 'ziyouren', 'wuma']\n"
     ],
     "output_type": "stream"
    }
   ],
   "source": [
    "# insert\n",
    "bicycles.insert(2,'jiaozuo')\n",
    "print(bicycles)"
   ]
  },
  {
   "cell_type": "code",
   "execution_count": 8,
   "metadata": {
    "pycharm": {
     "is_executing": false,
     "name": "#%%\n"
    }
   },
   "outputs": [
    {
     "name": "stdout",
     "text": [
      "['trek', 'fenghuang', 'jieante', 'ziyouren', 'wuma']\n"
     ],
     "output_type": "stream"
    }
   ],
   "source": [
    "# delete using del\n",
    "del bicycles[2]\n",
    "print(bicycles)"
   ]
  },
  {
   "cell_type": "code",
   "execution_count": 9,
   "metadata": {
    "pycharm": {
     "is_executing": false,
     "name": "#%%\n"
    }
   },
   "outputs": [
    {
     "name": "stdout",
     "text": [
      "trek\n",
      "['fenghuang', 'jieante', 'ziyouren', 'wuma']\n"
     ],
     "output_type": "stream"
    }
   ],
   "source": [
    "# delete using pop()--index\n",
    "print(bicycles.pop(0))\n",
    "print(bicycles)"
   ]
  },
  {
   "cell_type": "code",
   "execution_count": 10,
   "metadata": {
    "pycharm": {
     "is_executing": false,
     "name": "#%%\n"
    }
   },
   "outputs": [
    {
     "name": "stdout",
     "text": [
      "wuma\n",
      "['fenghuang', 'jieante', 'ziyouren']\n"
     ],
     "output_type": "stream"
    }
   ],
   "source": [
    "# delete using pop() 默认删除最后一个\n",
    "print(bicycles.pop())\n",
    "print(bicycles)"
   ]
  },
  {
   "cell_type": "code",
   "execution_count": 11,
   "metadata": {
    "pycharm": {
     "is_executing": false,
     "name": "#%%\n"
    }
   },
   "outputs": [
    {
     "name": "stdout",
     "text": [
      "['fenghuang', 'ziyouren']\n"
     ],
     "output_type": "stream"
    }
   ],
   "source": [
    "# delete using remove() 括号内不能是list\n",
    "bicycles.remove('jieante')\n",
    "print(bicycles)"
   ]
  },
  {
   "cell_type": "markdown",
   "metadata": {
    "pycharm": {
     "is_executing": false,
     "name": "#%% md\n"
    }
   },
   "source": [
    "## 3.3 organize list"
   ]
  },
  {
   "cell_type": "code",
   "execution_count": 12,
   "metadata": {
    "pycharm": {
     "is_executing": false,
     "name": "#%%\n"
    }
   },
   "outputs": [
    {
     "name": "stdout",
     "text": [
      "['bebi', 'jaozuo', 'zhengzhou', 'jiyuan', 'shangqiu']\n",
      "['zhengzhou', 'shangqiu', 'jiyuan', 'jaozuo', 'bebi']\n"
     ],
     "output_type": "stream"
    }
   ],
   "source": [
    "#永久排序 sort()\n",
    "city=['bebi','jaozuo','zhengzhou','jiyuan','shangqiu']\n",
    "print(city)\n",
    "city.sort(reverse=True)\n",
    "print(city)"
   ]
  },
  {
   "cell_type": "code",
   "execution_count": 13,
   "metadata": {
    "pycharm": {
     "is_executing": false,
     "name": "#%%\n"
    }
   },
   "outputs": [
    {
     "name": "stdout",
     "text": [
      "Here is the sorted list:\n",
      "['bebi', 'jaozuo', 'jiyuan', 'shangqiu', 'zhengzhou']\n",
      "Here is the original list:\n",
      "['bebi', 'jaozuo', 'zhengzhou', 'jiyuan', 'shangqiu']\n"
     ],
     "output_type": "stream"
    }
   ],
   "source": [
    "city=['bebi','jaozuo','zhengzhou','jiyuan','shangqiu']\n",
    "print('Here is the sorted list:')\n",
    "print(sorted(city))\n",
    "print('Here is the original list:')\n",
    "print(city)\n",
    "\n"
   ]
  },
  {
   "cell_type": "code",
   "execution_count": 14,
   "metadata": {
    "pycharm": {
     "is_executing": false,
     "name": "#%%\n"
    }
   },
   "outputs": [
    {
     "name": "stdout",
     "text": [
      "['zhengzhou', 'shangqiu', 'jiyuan', 'jaozuo', 'bebi']\n"
     ],
     "output_type": "stream"
    }
   ],
   "source": [
    "print(sorted(city,reverse=True))\n",
    "\n"
   ]
  },
  {
   "cell_type": "code",
   "execution_count": 15,
   "metadata": {
    "pycharm": {
     "is_executing": false,
     "name": "#%%\n"
    }
   },
   "outputs": [
    {
     "name": "stdout",
     "text": [
      "['bebi', 'jaozuo', 'zhengzhou', 'jiyuan', 'shangqiu']\n",
      "['shangqiu', 'jiyuan', 'zhengzhou', 'jaozuo', 'bebi']\n"
     ],
     "output_type": "stream"
    }
   ],
   "source": [
    "# 颠倒list顺序 reverse()\n",
    "print(city)\n",
    "city.reverse()\n",
    "print(city)"
   ]
  },
  {
   "cell_type": "code",
   "execution_count": 16,
   "metadata": {
    "pycharm": {
     "is_executing": false,
     "name": "#%%\n"
    }
   },
   "outputs": [
    {
     "data": {
      "text/plain": "5"
     },
     "metadata": {},
     "output_type": "execute_result",
     "execution_count": 16
    }
   ],
   "source": [
    "# list长度\n",
    "len(city)\n",
    "\n"
   ]
  },
  {
   "cell_type": "markdown",
   "metadata": {
    "pycharm": {
     "name": "#%% md\n"
    }
   },
   "source": [
    "# 四.列表操作"
   ]
  },
  {
   "cell_type": "markdown",
   "metadata": {
    "pycharm": {
     "name": "#%% md\n"
    }
   },
   "source": [
    "## 4.1遍历整个列表"
   ]
  },
  {
   "cell_type": "code",
   "execution_count": 17,
   "metadata": {
    "pycharm": {
     "is_executing": false,
     "name": "#%%\n"
    }
   },
   "outputs": [
    {
     "name": "stdout",
     "text": [
      "shangqiu\n",
      "jiyuan\n",
      "zhengzhou\n",
      "jaozuo\n",
      "bebi\n"
     ],
     "output_type": "stream"
    }
   ],
   "source": [
    "for i in city:\n",
    "    print(i)\n",
    "\n"
   ]
  },
  {
   "cell_type": "markdown",
   "metadata": {
    "pycharm": {
     "name": "#%% md\n"
    }
   },
   "source": [
    "## 4.3创建数值列表"
   ]
  },
  {
   "cell_type": "markdown",
   "metadata": {
    "pycharm": {
     "name": "#%% md\n"
    }
   },
   "source": [
    "### 4.3.1 range()"
   ]
  },
  {
   "cell_type": "code",
   "execution_count": 18,
   "metadata": {
    "pycharm": {
     "is_executing": false,
     "name": "#%%\n"
    }
   },
   "outputs": [
    {
     "name": "stdout",
     "text": [
      "1\n",
      "2\n",
      "3\n",
      "4\n"
     ],
     "output_type": "stream"
    }
   ],
   "source": [
    "for i in range(1,5):\n",
    "    print(i)\n",
    "\n",
    "\n",
    "\n"
   ]
  },
  {
   "cell_type": "markdown",
   "metadata": {
    "pycharm": {
     "name": "#%% md\n"
    }
   },
   "source": [
    "### 4.3.2 使用range()创建数值列表"
   ]
  },
  {
   "cell_type": "code",
   "execution_count": 19,
   "metadata": {
    "pycharm": {
     "is_executing": false,
     "name": "#%%\n"
    }
   },
   "outputs": [
    {
     "name": "stdout",
     "text": [
      "[1, 2, 3, 4, 5]\n"
     ],
     "output_type": "stream"
    }
   ],
   "source": [
    "numbers=list(range(1,6))\n",
    "print(numbers)\n",
    "\n"
   ]
  },
  {
   "cell_type": "code",
   "execution_count": 20,
   "metadata": {
    "pycharm": {
     "is_executing": false,
     "name": "#%%\n"
    }
   },
   "outputs": [
    {
     "name": "stdout",
     "text": [
      "[1, 3, 5, 7, 9, 11, 13, 15, 17, 19, 21, 23, 25, 27, 29, 31, 33, 35, 37, 39, 41, 43, 45, 47, 49, 51, 53, 55, 57, 59, 61, 63, 65, 67, 69, 71, 73, 75, 77, 79, 81, 83, 85, 87, 89, 91, 93, 95, 97, 99]\n",
      "[2, 4, 6, 8, 10, 12, 14, 16, 18, 20, 22, 24, 26, 28, 30, 32, 34, 36, 38, 40, 42, 44, 46, 48, 50, 52, 54, 56, 58, 60, 62, 64, 66, 68, 70, 72, 74, 76, 78, 80, 82, 84, 86, 88, 90, 92, 94, 96, 98, 100]\n"
     ],
     "output_type": "stream"
    }
   ],
   "source": [
    "odd_numbers=list(range(1,101,2))\n",
    "print(odd_numbers)\n",
    "even_numbers=list(range(2,101,2))\n",
    "print(even_numbers)"
   ]
  },
  {
   "cell_type": "code",
   "execution_count": 21,
   "metadata": {
    "pycharm": {
     "is_executing": false,
     "name": "#%%\n"
    }
   },
   "outputs": [
    {
     "name": "stdout",
     "text": [
      "[1, 4, 9, 16, 25, 36, 49, 64, 81, 100]\n"
     ],
     "output_type": "stream"
    }
   ],
   "source": [
    "squares=[]\n",
    "for i in range(1,11):\n",
    "    squares.append(i**2)\n",
    "print(squares)\n"
   ]
  },
  {
   "cell_type": "code",
   "execution_count": 22,
   "metadata": {
    "pycharm": {
     "is_executing": false,
     "name": "#%%\n"
    }
   },
   "outputs": [
    {
     "name": "stdout",
     "text": [
      "[1]\n",
      "[1, 4]\n",
      "[1, 4, 9]\n",
      "[1, 4, 9, 16]\n",
      "[1, 4, 9, 16, 25]\n",
      "[1, 4, 9, 16, 25, 36]\n",
      "[1, 4, 9, 16, 25, 36, 49]\n",
      "[1, 4, 9, 16, 25, 36, 49, 64]\n",
      "[1, 4, 9, 16, 25, 36, 49, 64, 81]\n",
      "[1, 4, 9, 16, 25, 36, 49, 64, 81, 100]\n"
     ],
     "output_type": "stream"
    }
   ],
   "source": [
    "squares=[]\n",
    "for i in range(1,11):\n",
    "    squares.append(i**2)\n",
    "    print(squares)\n",
    "\n"
   ]
  },
  {
   "cell_type": "markdown",
   "metadata": {
    "pycharm": {
     "name": "#%% md\n"
    }
   },
   "source": [
    "### 4.3.3 对数字列表执行简单的统计计算"
   ]
  },
  {
   "cell_type": "code",
   "execution_count": 23,
   "metadata": {
    "pycharm": {
     "is_executing": false,
     "name": "#%%\n"
    }
   },
   "outputs": [
    {
     "name": "stdout",
     "text": [
      "99\n",
      "1\n",
      "2500\n"
     ],
     "output_type": "stream"
    }
   ],
   "source": [
    "print(max(odd_numbers))\n",
    "print(min(odd_numbers))\n",
    "print(sum(odd_numbers))\n",
    "\n"
   ]
  },
  {
   "cell_type": "markdown",
   "metadata": {
    "pycharm": {
     "name": "#%% md\n"
    }
   },
   "source": [
    "### 4.3.4 列表解析"
   ]
  },
  {
   "cell_type": "code",
   "execution_count": 24,
   "metadata": {
    "pycharm": {
     "is_executing": false,
     "name": "#%%\n"
    }
   },
   "outputs": [
    {
     "name": "stdout",
     "text": [
      "[1, 4, 9, 16, 25, 36, 49, 64, 81, 100]\n"
     ],
     "output_type": "stream"
    }
   ],
   "source": [
    "#将for循环和创建新元素的代码合并成一行，并自动附加新元素\n",
    "squares=[i**2 for i in range(1,11)]\n",
    "print(squares)\n"
   ]
  },
  {
   "cell_type": "markdown",
   "metadata": {
    "pycharm": {
     "name": "#%% md\n"
    }
   },
   "source": [
    "## 4.4 使用列表的一部分\n",
    "### 4.4.1 切片"
   ]
  },
  {
   "cell_type": "code",
   "execution_count": 25,
   "metadata": {
    "pycharm": {
     "is_executing": false,
     "name": "#%%\n"
    }
   },
   "outputs": [
    {
     "name": "stdout",
     "text": [
      "['shangqiu', 'jiyuan', 'zhengzhou', 'jaozuo', 'bebi']\n",
      "['jiyuan', 'zhengzhou']\n",
      "['shangqiu', 'jiyuan', 'zhengzhou']\n",
      "['jaozuo', 'bebi']\n",
      "['shangqiu', 'jiyuan', 'zhengzhou']\n",
      "['zhengzhou', 'jaozuo', 'bebi']\n"
     ],
     "output_type": "stream"
    }
   ],
   "source": [
    "print(city)\n",
    "print(city[1:3])\n",
    "print(city[:3])\n",
    "print(city[3:])\n",
    "print(city[:-2])\n",
    "print(city[-3:])"
   ]
  },
  {
   "cell_type": "markdown",
   "metadata": {
    "pycharm": {
     "name": "#%% md\n"
    }
   },
   "source": [
    "### 遍历切片"
   ]
  },
  {
   "cell_type": "code",
   "execution_count": 26,
   "metadata": {
    "pycharm": {
     "is_executing": false,
     "name": "#%%\n"
    }
   },
   "outputs": [
    {
     "name": "stdout",
     "text": [
      "Shangqiu\n",
      "Jiyuan\n",
      "Zhengzhou\n",
      "Jaozuo\n",
      "Bebi\n"
     ],
     "output_type": "stream"
    }
   ],
   "source": [
    "for i in city:\n",
    "    print(i.title())\n"
   ]
  },
  {
   "cell_type": "markdown",
   "metadata": {
    "pycharm": {
     "name": "#%% md\n"
    }
   },
   "source": [
    "### copy list"
   ]
  },
  {
   "cell_type": "code",
   "execution_count": 27,
   "metadata": {
    "pycharm": {
     "is_executing": false,
     "name": "#%%\n"
    }
   },
   "outputs": [
    {
     "name": "stdout",
     "text": [
      "['shangqiu', 'jiyuan', 'zhengzhou', 'jaozuo', 'bebi', 'wuhan']\n",
      "['shangqiu', 'jiyuan', 'zhengzhou', 'jaozuo', 'bebi', 'shanghai']\n"
     ],
     "output_type": "stream"
    }
   ],
   "source": [
    "#正确copy方式\n",
    "citycopy=city[:]\n",
    "citycopy.append('shanghai')\n",
    "city.append('wuhan')\n",
    "print(city)\n",
    "print(citycopy)\n",
    "\n"
   ]
  },
  {
   "cell_type": "code",
   "execution_count": 28,
   "metadata": {
    "pycharm": {
     "is_executing": false,
     "name": "#%%\n"
    }
   },
   "outputs": [
    {
     "name": "stdout",
     "text": [
      "['shangqiu', 'jiyuan', 'zhengzhou', 'jaozuo', 'bebi', 'wuhan', 'haerbin', 'shenyang']\n",
      "['shangqiu', 'jiyuan', 'zhengzhou', 'jaozuo', 'bebi', 'wuhan', 'haerbin', 'shenyang']\n"
     ],
     "output_type": "stream"
    }
   ],
   "source": [
    "#错误copy方式\n",
    "cityerror=city\n",
    "city.append('haerbin')\n",
    "cityerror.append('shenyang')\n",
    "print(city)\n",
    "print(cityerror)"
   ]
  },
  {
   "cell_type": "markdown",
   "metadata": {
    "pycharm": {
     "name": "#%% md\n"
    }
   },
   "source": [
    "## 4.5元组\n",
    "### 4.5.1 定义元组"
   ]
  },
  {
   "cell_type": "code",
   "execution_count": 29,
   "metadata": {
    "pycharm": {
     "is_executing": false,
     "name": "#%%\n"
    }
   },
   "outputs": [
    {
     "name": "stdout",
     "text": [
      "jiaozuo\n"
     ],
     "output_type": "stream"
    },
    {
     "traceback": [
      "\u001b[1;31m---------------------------------------------------------------------------\u001b[0m",
      "\u001b[1;31mTypeError\u001b[0m                                 Traceback (most recent call last)",
      "\u001b[1;32m<ipython-input-29-917e6dfda1a1>\u001b[0m in \u001b[0;36m<module>\u001b[1;34m\u001b[0m\n\u001b[0;32m      2\u001b[0m \u001b[0mcitytuple\u001b[0m\u001b[1;33m=\u001b[0m\u001b[1;33m(\u001b[0m\u001b[1;34m'jiaozuo'\u001b[0m\u001b[1;33m,\u001b[0m\u001b[1;34m'jiyuan'\u001b[0m\u001b[1;33m,\u001b[0m\u001b[1;34m'hebi'\u001b[0m\u001b[1;33m,\u001b[0m\u001b[1;34m'zhengzhou'\u001b[0m\u001b[1;33m,\u001b[0m\u001b[1;34m'kaifneg'\u001b[0m\u001b[1;33m)\u001b[0m\u001b[1;33m\u001b[0m\u001b[1;33m\u001b[0m\u001b[0m\n\u001b[0;32m      3\u001b[0m \u001b[0mprint\u001b[0m\u001b[1;33m(\u001b[0m\u001b[0mcitytuple\u001b[0m\u001b[1;33m[\u001b[0m\u001b[1;36m0\u001b[0m\u001b[1;33m]\u001b[0m\u001b[1;33m)\u001b[0m\u001b[1;33m\u001b[0m\u001b[1;33m\u001b[0m\u001b[0m\n\u001b[1;32m----> 4\u001b[1;33m \u001b[0mcitytuple\u001b[0m\u001b[1;33m[\u001b[0m\u001b[1;36m0\u001b[0m\u001b[1;33m]\u001b[0m\u001b[1;33m=\u001b[0m\u001b[1;34m'luoyang'\u001b[0m\u001b[1;33m\u001b[0m\u001b[1;33m\u001b[0m\u001b[0m\n\u001b[0m",
      "\u001b[1;31mTypeError\u001b[0m: 'tuple' object does not support item assignment"
     ],
     "ename": "TypeError",
     "evalue": "'tuple' object does not support item assignment",
     "output_type": "error"
    }
   ],
   "source": [
    "#元组类似list，但是不支持修改元素\n",
    "citytuple=('jiaozuo','jiyuan','hebi','zhengzhou','kaifneg')\n",
    "print(citytuple[0])\n",
    "citytuple[0]='luoyang'"
   ]
  },
  {
   "cell_type": "markdown",
   "metadata": {
    "pycharm": {
     "is_executing": false,
     "name": "#%% md\n"
    }
   },
   "source": [
    "# 5 if\n",
    "## 5.1 easy example  "
   ]
  },
  {
   "cell_type": "code",
   "execution_count": 31,
   "outputs": [
    {
     "name": "stdout",
     "text": [
      "common city\n",
      "The city where my lover lives\n",
      "common city\n",
      "common city\n",
      "common city\n",
      "common city\n",
      "common city\n",
      "common city\n"
     ],
     "output_type": "stream"
    }
   ],
   "source": [
    "for i in city:\n",
    "    if i =='jiyuan':\n",
    "        print('The city where my lover lives')\n",
    "    else:\n",
    "        print('common city')"
   ],
   "metadata": {
    "collapsed": false,
    "pycharm": {
     "name": "#%%\n",
     "is_executing": false
    }
   }
  },
  {
   "cell_type": "markdown",
   "source": [
    "## 5.2 条件测试\n",
    "（如果每个if语句的核心都是一个值为True或False的表达式，这种表达式叫做条件测试"
   ],
   "metadata": {
    "collapsed": false,
    "pycharm": {
     "name": "#%% md\n"
    }
   }
  },
  {
   "cell_type": "code",
   "execution_count": 35,
   "outputs": [
    {
     "name": "stdout",
     "text": [
      "You are foolish!\n"
     ],
     "output_type": "stream"
    }
   ],
   "source": [
    "lover_city='zhengzhou'\n",
    "if lover_city !='jiyuan':\n",
    "    print('You are foolish!')"
   ],
   "metadata": {
    "collapsed": false,
    "pycharm": {
     "name": "#%%\n",
     "is_executing": false
    }
   }
  },
  {
   "cell_type": "markdown",
   "source": [
    "### 5.2.5 检查多个条件 and or"
   ],
   "metadata": {
    "collapsed": false,
    "pycharm": {
     "name": "#%% md\n"
    }
   }
  },
  {
   "cell_type": "code",
   "execution_count": 37,
   "outputs": [
    {
     "data": {
      "text/plain": "True"
     },
     "metadata": {},
     "output_type": "execute_result",
     "execution_count": 37
    }
   ],
   "source": [
    "'jiyuan' in city and 'zhengzhou' in city"
   ],
   "metadata": {
    "collapsed": false,
    "pycharm": {
     "name": "#%%\n",
     "is_executing": false
    }
   }
  },
  {
   "cell_type": "code",
   "execution_count": 38,
   "outputs": [
    {
     "name": "stdout",
     "text": [
      "False\n",
      "True\n"
     ],
     "output_type": "stream"
    }
   ],
   "source": [
    "print('beijing' in city and 'jiyuan' in city)\n",
    "print('beijing' in city or 'jiyuan' in city)\n"
   ],
   "metadata": {
    "collapsed": false,
    "pycharm": {
     "name": "#%%\n",
     "is_executing": false
    }
   }
  },
  {
   "cell_type": "markdown",
   "source": [
    "## 5.3 if\n",
    "### 5.3.2 if-else"
   ],
   "metadata": {
    "collapsed": false,
    "pycharm": {
     "name": "#%% md\n"
    }
   }
  },
  {
   "cell_type": "code",
   "execution_count": 45,
   "outputs": [
    {
     "name": "stdout",
     "text": [
      "Sorry, you are too young!\n"
     ],
     "output_type": "stream"
    }
   ],
   "source": [
    "age=17\n",
    "if age >= 18:\n",
    "    print('You can vote!')\n",
    "else:\n",
    "    print('Sorry, you are too young!')"
   ],
   "metadata": {
    "collapsed": false,
    "pycharm": {
     "name": "#%%\n",
     "is_executing": false
    }
   }
  },
  {
   "cell_type": "code",
   "execution_count": 46,
   "outputs": [
    {
     "name": "stdout",
     "text": [
      "You are youth,so you can pay half.\n",
      "You are elder, so you can pay nothing.\n",
      "You are elder, so you can pay nothing.\n",
      "You are adult, so you must pay full.\n"
     ],
     "output_type": "stream"
    }
   ],
   "source": [
    "ages=[3,66,70,22]\n",
    "for age in ages:\n",
    "    if age<=18:\n",
    "        print('You are youth,so you can pay half.')\n",
    "    elif age<=65:\n",
    "        print('You are adult, so you must pay full.')\n",
    "    else:\n",
    "        print('You are elder, so you can pay nothing.')\n"
   ],
   "metadata": {
    "collapsed": false,
    "pycharm": {
     "name": "#%%\n",
     "is_executing": false
    }
   }
  },
  {
   "cell_type": "markdown",
   "source": [
    "### 5.3.6 测试多个条件"
   ],
   "metadata": {
    "collapsed": false,
    "pycharm": {
     "name": "#%% md\n"
    }
   }
  },
  {
   "cell_type": "code",
   "execution_count": 50,
   "outputs": [
    {
     "name": "stdout",
     "text": [
      "Adding mushrooms!\n",
      "Adding extra cheese!\n",
      "\u0007Finished making your pizza!\n"
     ],
     "output_type": "stream"
    }
   ],
   "source": [
    "#披萨店里有mushrooms、pepperoni和extra cheese三种配料，\n",
    "# 顾客点了两种mushrooms和extra cheese两种配料。\n",
    "requested_toppings=['mushrooms','extra cheese']\n",
    "if 'mushrooms' in requested_toppings:\n",
    "    print('Adding mushrooms!')\n",
    "if 'pepperoni' in requested_toppings:\n",
    "    print('Adding pepperoni!')\n",
    "if 'extra cheese' in requested_toppings:\n",
    "    print('Adding extra cheese!')\n",
    "print('\\nFinished making your pizza!')"
   ],
   "metadata": {
    "collapsed": false,
    "pycharm": {
     "name": "#%%\n",
     "is_executing": false
    }
   }
  },
  {
   "cell_type": "code",
   "execution_count": 52,
   "outputs": [
    {
     "name": "stdout",
     "text": [
      "Adding mushrooms!\n",
      "\n",
      "Finished making your pizza!\n"
     ],
     "output_type": "stream"
    }
   ],
   "source": [
    "if 'mushrooms' in requested_toppings:\n",
    "    print('Adding mushrooms!')\n",
    "elif'pepperoni' in requested_toppings:\n",
    "    print('Adding pepperoni!')\n",
    "elif 'extra cheese' in requested_toppings:\n",
    "    print('Adding extra cheese!')\n",
    "print('\\nFinished making your pizza!')\n",
    "#这种结构，只要遇到返回值为‘True’，就不再进行判断\n"
   ],
   "metadata": {
    "collapsed": false,
    "pycharm": {
     "name": "#%%\n",
     "is_executing": false
    }
   }
  },
  {
   "cell_type": "markdown",
   "source": [
    "# 6 字典\n",
    "requested_toppings=['mushrooms','extra cheese','green peppers']\n"
   ],
   "metadata": {
    "collapsed": false,
    "pycharm": {
     "name": "#%% md\n"
    }
   }
  }
 ],
 "metadata": {
  "kernelspec": {
   "display_name": "Python 3",
   "language": "python",
   "name": "python3"
  },
  "language_info": {
   "codemirror_mode": {
    "name": "ipython",
    "version": 3
   },
   "file_extension": ".py",
   "mimetype": "text/x-python",
   "name": "python",
   "nbconvert_exporter": "python",
   "pygments_lexer": "ipython3",
   "version": "3.7.6"
  },
  "nbTranslate": {
   "displayLangs": [
    "*"
   ],
   "hotkey": "alt-t",
   "langInMainMenu": true,
   "sourceLang": "en",
   "targetLang": "fr",
   "useGoogleTranslate": true
  },
  "pycharm": {
   "stem_cell": {
    "cell_type": "raw",
    "source": [],
    "metadata": {
     "collapsed": false
    }
   }
  },
  "toc": {
   "base_numbering": 1,
   "nav_menu": {},
   "number_sections": true,
   "sideBar": true,
   "skip_h1_title": false,
   "title_cell": "Table of Contents",
   "title_sidebar": "Contents",
   "toc_cell": false,
   "toc_position": {},
   "toc_section_display": true,
   "toc_window_display": false
  },
  "varInspector": {
   "cols": {
    "lenName": 16,
    "lenType": 16,
    "lenVar": 40
   },
   "kernels_config": {
    "python": {
     "delete_cmd_postfix": "",
     "delete_cmd_prefix": "del ",
     "library": "var_list.py",
     "varRefreshCmd": "print(var_dic_list())"
    },
    "r": {
     "delete_cmd_postfix": ") ",
     "delete_cmd_prefix": "rm(",
     "library": "var_list.r",
     "varRefreshCmd": "cat(var_dic_list()) "
    }
   },
   "types_to_exclude": [
    "module",
    "function",
    "builtin_function_or_method",
    "instance",
    "_Feature"
   ],
   "window_display": false
  }
 },
 "nbformat": 4,
 "nbformat_minor": 1
}